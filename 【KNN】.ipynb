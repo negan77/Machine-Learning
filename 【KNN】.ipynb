{
 "cells": [
  {
   "cell_type": "markdown",
   "metadata": {},
   "source": [
    "### KNN算法原理\n",
    "1. 首先，计算测试样本与每个训练样本的距离（如欧氏距离或曼哈顿距离，这里采用欧氏距离）；\n",
    "2. 其次，设置超参数K，选出离该测试样本最近的K个训练样本；\n",
    "3. 最后，这K个测试样本当中出现最多的类别作为该测试样本的分类。"
   ]
  },
  {
   "cell_type": "markdown",
   "metadata": {},
   "source": [
    "如图所示，绿色的为测试样本，当k取3时，该样本就属于红色类；当k取5时，就属于蓝色类了。所以k值的选择很大程度影响着该算法的结果，通常k的取值不大于20。\n",
    "<img src=\"KNN.png\",width=200,height=600>"
   ]
  },
  {
   "cell_type": "markdown",
   "metadata": {},
   "source": [
    "#### KNN算法伪代码：\n",
    "* 计算测试样本与所有训练样本的距离\n",
    "* 对距离进行升序排序，取前k个\n",
    "* 计算k个样本中最多的分类"
   ]
  },
  {
   "cell_type": "markdown",
   "metadata": {},
   "source": [
    "### 0.导入相关库"
   ]
  },
  {
   "cell_type": "code",
   "execution_count": 1,
   "metadata": {
    "collapsed": true
   },
   "outputs": [],
   "source": [
    "import numpy as np\n",
    "import operator\n",
    "import pandas as pd"
   ]
  },
  {
   "cell_type": "markdown",
   "metadata": {},
   "source": [
    "### 1.解析数据"
   ]
  },
  {
   "cell_type": "code",
   "execution_count": 2,
   "metadata": {
    "collapsed": true
   },
   "outputs": [],
   "source": [
    "def file2matrix(filename):\n",
    "    Olddata=pd.read_csv(open(filename),sep=',',header=None)    # 读入CSV文件\n",
    "    data=Olddata.drop(0)                     # 删除第一行表头\n",
    "    data=data.drop(0,axis=1)                 # 删除第一列index\n",
    "    data=data.sample(frac = 1)               # 对数据进行随机打乱\n",
    "    returnMat=data[[i for i in range(1,14)]].values\n",
    "    returnMat=returnMat.astype(np.float32)   # 数据类型转化\n",
    "    classLabelVector=data[14].values\n",
    "    classLabelVector=classLabelVector.astype(np.int32)\n",
    "    return returnMat,classLabelVector"
   ]
  },
  {
   "cell_type": "code",
   "execution_count": 3,
   "metadata": {
    "collapsed": true
   },
   "outputs": [],
   "source": [
    "X,y=file2matrix('wine.csv')"
   ]
  },
  {
   "cell_type": "code",
   "execution_count": 4,
   "metadata": {
    "scrolled": true
   },
   "outputs": [
    {
     "data": {
      "text/plain": [
       "(array([[1.311e+01, 1.010e+00, 1.700e+00, ..., 1.120e+00, 3.180e+00,\n",
       "         5.020e+02],\n",
       "        [1.369e+01, 3.260e+00, 2.540e+00, ..., 9.600e-01, 1.820e+00,\n",
       "         6.800e+02],\n",
       "        [1.208e+01, 1.330e+00, 2.300e+00, ..., 1.070e+00, 3.210e+00,\n",
       "         6.250e+02],\n",
       "        ...,\n",
       "        [1.284e+01, 2.960e+00, 2.610e+00, ..., 8.900e-01, 2.150e+00,\n",
       "         5.900e+02],\n",
       "        [1.419e+01, 1.590e+00, 2.480e+00, ..., 1.230e+00, 2.820e+00,\n",
       "         1.680e+03],\n",
       "        [1.423e+01, 1.710e+00, 2.430e+00, ..., 1.040e+00, 3.920e+00,\n",
       "         1.065e+03]], dtype=float32),\n",
       " array([2, 3, 2, 1, 2, 1, 1, 3, 1, 3, 2, 3, 2, 1, 2, 2, 1, 2, 2, 2, 3, 1,\n",
       "        3, 1, 1, 1, 1, 1, 2, 1, 1, 2, 2, 2, 2, 1, 2, 3, 2, 1, 1, 3, 1, 3,\n",
       "        3, 2, 1, 2, 1, 1, 1, 3, 2, 2, 2, 2, 3, 2, 1, 2, 2, 3, 3, 2, 2, 2,\n",
       "        2, 3, 1, 2, 2, 2, 3, 1, 2, 1, 1, 2, 2, 3, 2, 3, 3, 3, 1, 2, 1, 2,\n",
       "        2, 3, 3, 1, 2, 3, 1, 2, 3, 1, 2, 2, 3, 1, 2, 3, 2, 2, 3, 2, 3, 2,\n",
       "        2, 1, 2, 2, 2, 3, 2, 1, 1, 3, 2, 3, 1, 1, 1, 3, 2, 1, 2, 1, 2, 3,\n",
       "        1, 2, 2, 3, 3, 3, 3, 1, 3, 1, 3, 1, 1, 2, 2, 1, 1, 1, 2, 3, 3, 2,\n",
       "        1, 2, 1, 2, 3, 3, 3, 2, 3, 1, 1, 3, 1, 2, 2, 3, 2, 1, 1, 1, 2, 3,\n",
       "        1, 1]))"
      ]
     },
     "execution_count": 4,
     "metadata": {},
     "output_type": "execute_result"
    }
   ],
   "source": [
    "X,y"
   ]
  },
  {
   "cell_type": "markdown",
   "metadata": {},
   "source": [
    "### 2.归一化\n",
    "由于特征间的数值差别较大，在计算距离时，数值大的属性会对结果产生更大的影响，这里需要对数据进行归一化：new = (old-min)/(max-min)。"
   ]
  },
  {
   "cell_type": "code",
   "execution_count": 5,
   "metadata": {
    "collapsed": true
   },
   "outputs": [],
   "source": [
    "def autoNorm(dataSet):\n",
    "    minval=dataSet.min(0)   # 0轴，即按列\n",
    "    maxval=dataSet.max(0)\n",
    "    ranges=maxval - minval\n",
    "    normDateSet=np.zeros(np.shape(dataSet))  # 构造和数据一样大的零矩阵\n",
    "    m=dataSet.shape[0]\n",
    "    normDataSet=dataSet-np.tile(minval,(m,1))\n",
    "    normDataSet=normDataSet/np.tile(ranges,(m,1))\n",
    "    return normDataSet,ranges,minval"
   ]
  },
  {
   "cell_type": "code",
   "execution_count": 6,
   "metadata": {},
   "outputs": [
    {
     "data": {
      "text/plain": [
       "array([[7, 8, 9],\n",
       "       [7, 8, 9],\n",
       "       [7, 8, 9]])"
      ]
     },
     "execution_count": 6,
     "metadata": {},
     "output_type": "execute_result"
    }
   ],
   "source": [
    "# np.tile()的用法示例\n",
    "a=np.array([7,8,9])\n",
    "np.tile(a,(3,1))"
   ]
  },
  {
   "cell_type": "code",
   "execution_count": 7,
   "metadata": {},
   "outputs": [
    {
     "data": {
      "text/plain": [
       "array([[7, 8, 9, 7, 8, 9],\n",
       "       [7, 8, 9, 7, 8, 9],\n",
       "       [7, 8, 9, 7, 8, 9]])"
      ]
     },
     "execution_count": 7,
     "metadata": {},
     "output_type": "execute_result"
    }
   ],
   "source": [
    "np.tile(a,(3,2))"
   ]
  },
  {
   "cell_type": "code",
   "execution_count": 8,
   "metadata": {},
   "outputs": [
    {
     "data": {
      "text/plain": [
       "array([[0.54736835, 0.05335968, 0.1818182 , ..., 0.5203252 , 0.6996337 ,\n",
       "        0.15977176],\n",
       "       [0.6999999 , 0.49802366, 0.631016  , ..., 0.3902439 , 0.20146522,\n",
       "        0.28673324],\n",
       "       [0.27631584, 0.11660079, 0.50267375, ..., 0.47967482, 0.7106227 ,\n",
       "        0.24750356],\n",
       "       ...,\n",
       "       [0.4763159 , 0.43873516, 0.6684491 , ..., 0.3333333 , 0.32234436,\n",
       "        0.22253923],\n",
       "       [0.83157885, 0.16798419, 0.5989305 , ..., 0.6097561 , 0.56776553,\n",
       "        1.        ],\n",
       "       [0.84210515, 0.1916996 , 0.57219255, ..., 0.4552845 , 0.970696  ,\n",
       "        0.5613409 ]], dtype=float32)"
      ]
     },
     "execution_count": 8,
     "metadata": {},
     "output_type": "execute_result"
    }
   ],
   "source": [
    "new_X,ranges,minval=autoNorm(X)\n",
    "new_X"
   ]
  },
  {
   "cell_type": "markdown",
   "metadata": {},
   "source": [
    "### 3.KNN算法\n",
    "* inX为训练数据；dataSet为测试数据，labels为类别标签；k为取值\n",
    "* 距离采用欧氏距离\n",
    "* 对计算的距离进行索引排序（argsort），然后对字典进行排序，获取样本数最多的分类"
   ]
  },
  {
   "cell_type": "code",
   "execution_count": 9,
   "metadata": {
    "collapsed": true
   },
   "outputs": [],
   "source": [
    "def classify(inX,dataSet,labels,k):\n",
    "    dataSize=dataSet.shape[0]\n",
    "    diffMat=np.tile(inX,(dataSize,1))-dataSet\n",
    "    sqdiffMat=diffMat**2\n",
    "    sqDistance=sqdiffMat.sum(axis=1)\n",
    "    distance=sqDistance**0.5\n",
    "    sortedDist=distance.argsort()    # 对计算的距离进行索引排序\n",
    "    classCount={}\n",
    "    for i in range(k):\n",
    "        voteIlable=labels[sortedDist[i]]\n",
    "        classCount[voteIlable]=classCount.get(voteIlable,0)+1\n",
    "    sortedClassCount=sorted(classCount.items(),key=operator.itemgetter(1),reverse=True)\n",
    "    return sortedClassCount[0][0]"
   ]
  },
  {
   "cell_type": "markdown",
   "metadata": {},
   "source": [
    "### 4.对分类器进行测试\n",
    "这里选择前10%数据（r=0.1）做为测试样本，进行分类器的测试。"
   ]
  },
  {
   "cell_type": "code",
   "execution_count": 10,
   "metadata": {
    "collapsed": true
   },
   "outputs": [],
   "source": [
    "def test():\n",
    "    r=0.1\n",
    "    X,y=file2matrix('wine.csv')\n",
    "    new_X,ranges,minval=autoNorm(X)\n",
    "    m=new_X.shape[0]\n",
    "    numTestVecs=int(m*r)\n",
    "    error=0.0\n",
    "    for i in range(numTestVecs):\n",
    "        result=classify(new_X[i,:],new_X[numTestVecs:m,:],y[numTestVecs:m],3)\n",
    "        print('分类结果：%d,真实数据：%d' % (result,y[i]))\n",
    "        if(result !=y[i]):\n",
    "            error=error+1.0\n",
    "    print('错误率 %f' % (error/float(numTestVecs)))"
   ]
  },
  {
   "cell_type": "code",
   "execution_count": 11,
   "metadata": {},
   "outputs": [
    {
     "name": "stdout",
     "output_type": "stream",
     "text": [
      "分类结果：1,真实数据：1\n",
      "分类结果：2,真实数据：2\n",
      "分类结果：2,真实数据：2\n",
      "分类结果：3,真实数据：3\n",
      "分类结果：3,真实数据：2\n",
      "分类结果：1,真实数据：1\n",
      "分类结果：1,真实数据：1\n",
      "分类结果：3,真实数据：3\n",
      "分类结果：1,真实数据：1\n",
      "分类结果：1,真实数据：2\n",
      "分类结果：2,真实数据：2\n",
      "分类结果：1,真实数据：1\n",
      "分类结果：1,真实数据：1\n",
      "分类结果：3,真实数据：3\n",
      "分类结果：1,真实数据：1\n",
      "分类结果：2,真实数据：2\n",
      "分类结果：2,真实数据：2\n",
      "错误率 0.117647\n"
     ]
    }
   ],
   "source": [
    "test()"
   ]
  },
  {
   "cell_type": "markdown",
   "metadata": {},
   "source": [
    "#### 测试系统\n",
    "给出一组测试数据：12.11,1.5,2.65,26.5,118,2.5,1.28,0.26,1.56,7.1,0.61,1.33,420"
   ]
  },
  {
   "cell_type": "code",
   "execution_count": 12,
   "metadata": {
    "collapsed": true
   },
   "outputs": [],
   "source": [
    "def system():\n",
    "    style=['拉菲','威士忌','青岛啤酒']\n",
    "    wineinput=input('请输入酒的参数：')\n",
    "    winedata=np.array([float(n) for n in wineinput.split(',')])\n",
    "    X, y = file2matrix('wine.csv')\n",
    "    new_X, ranges, minval = autoNorm(X)\n",
    "    result = classify((winedata - minval)/ranges, new_X, y, 3)\n",
    "    print('你好！')\n",
    "    print('这瓶酒是：',style[result-1])"
   ]
  },
  {
   "cell_type": "code",
   "execution_count": 15,
   "metadata": {},
   "outputs": [
    {
     "name": "stdout",
     "output_type": "stream",
     "text": [
      "请输入酒的参数：14.23,1.71,2.43,15.6,127,2.8,3.06,0.28,2.29,5.64,1.04,3.92,1065\n",
      "你好！\n",
      "这瓶酒是： 拉菲\n"
     ]
    }
   ],
   "source": [
    "system()"
   ]
  },
  {
   "cell_type": "markdown",
   "metadata": {},
   "source": [
    "### 5.算法优缺点\n",
    "* 优点：精度高，对异常值不敏感\n",
    "* 缺点：计算复杂（每个测试样本都要与训练样本继续距离计算）"
   ]
  }
 ],
 "metadata": {
  "kernelspec": {
   "display_name": "Python 3",
   "language": "python",
   "name": "python3"
  },
  "language_info": {
   "codemirror_mode": {
    "name": "ipython",
    "version": 3
   },
   "file_extension": ".py",
   "mimetype": "text/x-python",
   "name": "python",
   "nbconvert_exporter": "python",
   "pygments_lexer": "ipython3",
   "version": "3.6.3"
  }
 },
 "nbformat": 4,
 "nbformat_minor": 2
}
